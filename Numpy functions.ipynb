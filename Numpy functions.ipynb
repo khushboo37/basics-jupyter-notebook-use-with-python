{
 "cells": [
  {
   "cell_type": "markdown",
   "id": "952c3c55",
   "metadata": {},
   "source": []
  },
  {
   "cell_type": "code",
   "execution_count": null,
   "id": "fd69d2f2",
   "metadata": {},
   "outputs": [],
   "source": []
  },
  {
   "cell_type": "code",
   "execution_count": 1,
   "id": "62283df2",
   "metadata": {},
   "outputs": [],
   "source": [
    "import numpy as np"
   ]
  },
  {
   "cell_type": "code",
   "execution_count": 2,
   "id": "7ba31298",
   "metadata": {},
   "outputs": [],
   "source": [
    "a = np.array([[12,34,5],[45,5,2]])"
   ]
  },
  {
   "cell_type": "code",
   "execution_count": 3,
   "id": "64c2a65d",
   "metadata": {},
   "outputs": [
    {
     "data": {
      "text/plain": [
       "array([51, 52])"
      ]
     },
     "execution_count": 3,
     "metadata": {},
     "output_type": "execute_result"
    }
   ],
   "source": [
    "a.sum(axis=1)"
   ]
  },
  {
   "cell_type": "code",
   "execution_count": 4,
   "id": "986664c5",
   "metadata": {},
   "outputs": [],
   "source": [
    "b= np.array([[1,2,5],[4,5,6]])"
   ]
  },
  {
   "cell_type": "markdown",
   "id": "1d745275",
   "metadata": {},
   "source": [
    "# Dot product by using transpose"
   ]
  },
  {
   "cell_type": "code",
   "execution_count": 5,
   "id": "00f820bf",
   "metadata": {},
   "outputs": [
    {
     "data": {
      "text/plain": [
       "array([[105, 248],\n",
       "       [ 65, 217]])"
      ]
     },
     "execution_count": 5,
     "metadata": {},
     "output_type": "execute_result"
    }
   ],
   "source": [
    "a.dot(b.transpose())"
   ]
  },
  {
   "cell_type": "code",
   "execution_count": 6,
   "id": "8f65a394",
   "metadata": {},
   "outputs": [
    {
     "data": {
      "text/plain": [
       "600"
      ]
     },
     "execution_count": 6,
     "metadata": {},
     "output_type": "execute_result"
    }
   ],
   "source": [
    "len(dir(np))"
   ]
  },
  {
   "cell_type": "code",
   "execution_count": 7,
   "id": "07493d58",
   "metadata": {},
   "outputs": [
    {
     "data": {
      "text/plain": [
       "array([[-160,   55,   10],\n",
       "       [ -20,  262, -205]])"
      ]
     },
     "execution_count": 7,
     "metadata": {},
     "output_type": "execute_result"
    }
   ],
   "source": [
    "np.cross(b,a)"
   ]
  },
  {
   "cell_type": "markdown",
   "id": "8804fc37",
   "metadata": {},
   "source": [
    "# Sorting the array"
   ]
  },
  {
   "cell_type": "code",
   "execution_count": 8,
   "id": "b56b123f",
   "metadata": {},
   "outputs": [
    {
     "name": "stdout",
     "output_type": "stream",
     "text": [
      "CPU times: total: 31.2 ms\n",
      "Wall time: 1 ms\n"
     ]
    },
    {
     "data": {
      "text/plain": [
       "array([[12,  5,  2],\n",
       "       [45, 34,  5]])"
      ]
     },
     "execution_count": 8,
     "metadata": {},
     "output_type": "execute_result"
    }
   ],
   "source": [
    "%%time\n",
    "np.sort(a,axis=0)"
   ]
  },
  {
   "cell_type": "code",
   "execution_count": 9,
   "id": "7e16fb1c",
   "metadata": {},
   "outputs": [
    {
     "name": "stdout",
     "output_type": "stream",
     "text": [
      "CPU times: total: 15.6 ms\n",
      "Wall time: 997 µs\n"
     ]
    },
    {
     "data": {
      "text/plain": [
       "array([[12,  5,  2],\n",
       "       [45, 34,  5]])"
      ]
     },
     "execution_count": 9,
     "metadata": {},
     "output_type": "execute_result"
    }
   ],
   "source": [
    "%%time\n",
    "np.sort(a,axis=0, kind='mergesort')"
   ]
  },
  {
   "cell_type": "code",
   "execution_count": 10,
   "id": "ecfd5a7a",
   "metadata": {},
   "outputs": [
    {
     "name": "stdout",
     "output_type": "stream",
     "text": [
      "CPU times: total: 0 ns\n",
      "Wall time: 0 ns\n"
     ]
    },
    {
     "data": {
      "text/plain": [
       "array([[12,  5,  2],\n",
       "       [45, 34,  5]])"
      ]
     },
     "execution_count": 10,
     "metadata": {},
     "output_type": "execute_result"
    }
   ],
   "source": [
    "%%time\n",
    "np.sort(a,axis=0, kind='quicksort')"
   ]
  },
  {
   "cell_type": "code",
   "execution_count": null,
   "id": "34280234",
   "metadata": {},
   "outputs": [],
   "source": []
  }
 ],
 "metadata": {
  "kernelspec": {
   "display_name": "Python 3 (ipykernel)",
   "language": "python",
   "name": "python3"
  },
  "language_info": {
   "codemirror_mode": {
    "name": "ipython",
    "version": 3
   },
   "file_extension": ".py",
   "mimetype": "text/x-python",
   "name": "python",
   "nbconvert_exporter": "python",
   "pygments_lexer": "ipython3",
   "version": "3.10.5"
  }
 },
 "nbformat": 4,
 "nbformat_minor": 5
}
